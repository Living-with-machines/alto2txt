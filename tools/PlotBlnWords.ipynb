{
 "cells": [
  {
   "cell_type": "code",
   "execution_count": null,
   "metadata": {
    "collapsed": true
   },
   "outputs": [],
   "source": [
    "import os\n",
    "import site\n",
    "os.environ[\"PYTHONPATH\"] = site.USER_BASE + \"/lib/python2.7/site-packages:\" + os.environ[\"PYTHONPATH\"]"
   ]
  },
  {
   "cell_type": "code",
   "execution_count": null,
   "metadata": {
    "collapsed": false
   },
   "outputs": [],
   "source": [
    "print(os.environ[\"PYTHONPATH\"])"
   ]
  },
  {
   "cell_type": "code",
   "execution_count": null,
   "metadata": {
    "collapsed": false
   },
   "outputs": [],
   "source": [
    "import os.path\n",
    "from lxml import etree\n",
    "%matplotlib inline\n",
    "import matplotlib.pyplot as plt"
   ]
  },
  {
   "cell_type": "code",
   "execution_count": null,
   "metadata": {
    "collapsed": false
   },
   "outputs": [],
   "source": [
    "def extract_words_coords(filename):\n",
    "    \"\"\"\n",
    "    Parse a BL_newspaper XML file and extract words and coordinates. \n",
    "    Both BL_page with pageWord sub-elements or BL_article with\n",
    "    articleWord sub-elements are handled.\n",
    "    \n",
    "    :param filename: file name\n",
    "    :type filename: str or unicode\n",
    "    :return: list of ([X, Y, W, H], word)\n",
    "    :rtype: list(tuple(list(int), str or unicode))\n",
    "    \"\"\"\n",
    "    with open(filename, \"r\") as f:\n",
    "        parser = etree.XMLParser(recover=False)\n",
    "        document_tree = etree.parse(f, parser)\n",
    "    root_element = document_tree.getroot()\n",
    "    elements = document_tree.xpath(\"/BL_newspaper/BL_page\")\n",
    "    query = \"//pageWord\"\n",
    "    if not elements:\n",
    "        elements = document_tree.xpath(\"/BL_newspaper/BL_article\")\n",
    "        query = \"//articleWord\"\n",
    "    element = elements[0]\n",
    "    print(\"Word element: \" + query)\n",
    "    word_elts = element.xpath(query)\n",
    "    assert word_elts, (\"No \" + query + \" elements\")\n",
    "    print((\"Number of words: \" + str(len(word_elts))))\n",
    "    word_coords = []\n",
    "    for word_elt in word_elts:\n",
    "        coords = word_elt.attrib[\"coord\"].split(\",\")\n",
    "        coords = [int(c) for c in coords]\n",
    "        word = word_elt.text\n",
    "        word_coords.append((coords, word))\n",
    "    return word_coords"
   ]
  },
  {
   "cell_type": "code",
   "execution_count": null,
   "metadata": {
    "collapsed": true
   },
   "outputs": [],
   "source": [
    "def plot_words(word_coords, subplot):\n",
    "    \"\"\"\n",
    "    Plot words on a subplot.\n",
    "    \n",
    "    :param word_coords: list of ([X, Y, W, H], word)\n",
    "    :rtype word_coords: list(tuple(list(int), str or unicode))\n",
    "    :param subplot: file name\n",
    "    :type subplot: matplotlib.axes._subplots.AxesSubplot\n",
    "    \"\"\"\n",
    "    for ([x, y, w, h], word) in word_coords:\n",
    "        subplot.text(x, y, word, fontsize=6)"
   ]
  },
  {
   "cell_type": "code",
   "execution_count": null,
   "metadata": {
    "collapsed": false
   },
   "outputs": [],
   "source": [
    "def create_text_subplot(title, word_coords):\n",
    "    \"\"\"\n",
    "    Create a figure and plot words in a sub-plot.\n",
    "\n",
    "    :param title: figure title\n",
    "    :type type: str or unicode\n",
    "    :param word_coords: list of ([X, Y, W, H], word)\n",
    "    :rtype word_coords: list(tuple(list(int), str or unicode))\n",
    "    :return: figure\n",
    "    :rtype: matplotlib.figure.Figure\n",
    "    \"\"\"\n",
    "    figure = plt.figure(figsize=(10, 20), dpi=100)\n",
    "    figure.suptitle(title, fontsize=14, fontweight='bold')\n",
    "    subplot = figure.add_subplot(111)  # 1x1 grid, 1st subplot\n",
    "    subplot.axis([0, 3000, 6000, 0])  # Invert Y axis. More intuitive than plt.gca().invert_yaxis()\n",
    "    # plt.autoscale(False)\n",
    "    subplot.autoscale_view(scalex=False, scaley=False)\n",
    "    subplot.axes.get_xaxis().set_visible(False)\n",
    "    subplot.axes.get_yaxis().set_visible(False)\n",
    "    plot_words(word_coords, subplot)\n",
    "    return figure"
   ]
  },
  {
   "cell_type": "code",
   "execution_count": null,
   "metadata": {
    "collapsed": true
   },
   "outputs": [],
   "source": [
    "def create_text_plot(directory, filename, title, limit=-1):\n",
    "    \"\"\"\n",
    "    Create a figure and plot words in a sub-plot.\n",
    "\n",
    "    :param directory: directory name\n",
    "    :type directory: str or unicode\n",
    "    :param filename: file name, relative to directory\n",
    "    :type filename: str or unicode\n",
    "    :param title: figure title\n",
    "    :type type: str or unicode\n",
    "    :param limit: number of words to plot\n",
    "    :type limit: int\n",
    "    :return: figure\n",
    "    :rtype: matplotlib.figure.Figure\n",
    "    \"\"\"\n",
    "    filepath = os.path.join(directory, filename)\n",
    "    word_coords = extract_words_coords(filepath)\n",
    "    if limit != -1:\n",
    "        word_coords = word_coords[0:limit]\n",
    "    plot = create_text_subplot(title + \" : \" + filename, word_coords)\n",
    "    return plot"
   ]
  },
  {
   "cell_type": "code",
   "execution_count": null,
   "metadata": {
    "collapsed": false,
    "scrolled": false
   },
   "outputs": [],
   "source": [
    "directory = \"/mnt/lustre/at003/at003/shared/findmypast/BNA/0000083/1847/1002/\"\n",
    "\n",
    "filename = \"WO1_MRTM_1847_10_02-0001.xml\"\n",
    "page_plot = create_text_plot(directory, filename, \"BLN page\")"
   ]
  },
  {
   "cell_type": "code",
   "execution_count": null,
   "metadata": {
    "collapsed": false,
    "scrolled": false
   },
   "outputs": [],
   "source": [
    "filename = \"WO1_MRTM_1847_10_02-0002.xml\"\n",
    "page_plot = create_text_plot(directory, filename, \"BLN page\")"
   ]
  },
  {
   "cell_type": "code",
   "execution_count": null,
   "metadata": {
    "collapsed": false,
    "scrolled": false
   },
   "outputs": [],
   "source": [
    "filename = \"WO1_MRTM_1847_10_02-0003.xml\"\n",
    "page_plot = create_text_plot(directory, filename, \"BLN page\")"
   ]
  },
  {
   "cell_type": "code",
   "execution_count": null,
   "metadata": {
    "collapsed": false,
    "scrolled": false
   },
   "outputs": [],
   "source": [
    "filename = \"WO1_MRTM_1847_10_02-0004.xml\"\n",
    "page_plot = create_text_plot(directory, filename, \"BLN page\")"
   ]
  },
  {
   "cell_type": "code",
   "execution_count": null,
   "metadata": {
    "collapsed": false,
    "scrolled": false
   },
   "outputs": [],
   "source": [
    "filename = \"WO1_MRTM_1847_10_02-0005.xml\"\n",
    "page_plot = create_text_plot(directory, filename, \"BLN page\")"
   ]
  },
  {
   "cell_type": "code",
   "execution_count": null,
   "metadata": {
    "collapsed": false,
    "scrolled": false
   },
   "outputs": [],
   "source": [
    "filename = \"WO1_MRTM_1847_10_02-0006.xml\"\n",
    "page_plot = create_text_plot(directory, filename, \"BLN page\")"
   ]
  },
  {
   "cell_type": "code",
   "execution_count": null,
   "metadata": {
    "collapsed": false,
    "scrolled": false
   },
   "outputs": [],
   "source": [
    "filename = \"WO1_MRTM_1847_10_02-0007.xml\"\n",
    "page_plot = create_text_plot(directory, filename, \"BLN page\")"
   ]
  },
  {
   "cell_type": "code",
   "execution_count": null,
   "metadata": {
    "collapsed": false,
    "scrolled": false
   },
   "outputs": [],
   "source": [
    "filename = \"WO1_MRTM_1847_10_02-0008.xml\"\n",
    "page_plot = create_text_plot(directory, filename, \"BLN page\")"
   ]
  },
  {
   "cell_type": "code",
   "execution_count": null,
   "metadata": {
    "collapsed": false,
    "scrolled": true
   },
   "outputs": [],
   "source": [
    "filename = \"WO1_MRTM_1847_10_02-0002-002.xml\"\n",
    "article_plot = create_text_plot(directory, filename, \"BLN article\")"
   ]
  },
  {
   "cell_type": "code",
   "execution_count": null,
   "metadata": {
    "collapsed": false
   },
   "outputs": [],
   "source": []
  }
 ],
 "metadata": {
  "kernelspec": {
   "display_name": "Python 2",
   "language": "python",
   "name": "python2"
  },
  "language_info": {
   "codemirror_mode": {
    "name": "ipython",
    "version": 2
   },
   "file_extension": ".py",
   "mimetype": "text/x-python",
   "name": "python",
   "nbconvert_exporter": "python",
   "pygments_lexer": "ipython2",
   "version": "2.7.5"
  }
 },
 "nbformat": 4,
 "nbformat_minor": 1
}
