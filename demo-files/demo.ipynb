{
 "cells": [
  {
   "attachments": {},
   "cell_type": "markdown",
   "metadata": {},
   "source": [
    "# alto2txt demo notebook\n",
    "\n",
    "This is a demo notebook, illustrating how to run the `alto2txt` tool from a Jupyter notebook.\n",
    "\n",
    "It assumes that you have downloaded and installed the latest version of `alto2txt` using `pip`:\n",
    "\n",
    "```sh\n",
    "$ pip install alto2txt\n",
    "```"
   ]
  },
  {
   "attachments": {},
   "cell_type": "markdown",
   "metadata": {},
   "source": [
    "### Loading functionality\n",
    "\n",
    "First, we import the function we need from the `alto2txt` tool. The function is called `process_mets_files_in_directory`.\n",
    "\n",
    "We also need the function called `load_xslts`, which provides a dictionary with all the flavours of XML and links to the correct XSLT documents, that needs to be passed as a parameter in each transformation we try to make (we will get back to that below)."
   ]
  },
  {
   "cell_type": "code",
   "execution_count": 4,
   "metadata": {},
   "outputs": [],
   "source": [
    "from alto2txt.xml_to_text import process_mets_files_in_directory\n",
    "from alto2txt.xml import load_xslts\n",
    "\n",
    "xslts = load_xslts()"
   ]
  },
  {
   "attachments": {},
   "cell_type": "markdown",
   "metadata": {},
   "source": [
    "## Testing files from BL repository\n",
    "\n",
    "In this first example, we run the alto2txt tool on one issue of one newspaper from the British Library's research repository. (The full file with the entire digitised run of the newspaper can be found [here](TODO).)\n",
    "\n",
    "We downloaded the file and expanded one issue inside the `bl-repo-files` folder inside this `demo-files` folder.\n",
    "\n",
    "The `process_mets_files_in_directory` function needs an input directory (`input_dir`) and an output directory (`output_dir`) passed to it, and the dictionary with the XSLT transformation files, which we created above.\n",
    "\n",
    "In the example below, we provide the input directory `./bl-repo-files` as a relative path. (You can also provide it as an absolute path if you want to.) For output, we have used the `demo-output` directory which is one level up from the `demo-files`. Feel free to play around with this parameter to see where the files end up on your computer."
   ]
  },
  {
   "cell_type": "code",
   "execution_count": 5,
   "metadata": {},
   "outputs": [],
   "source": [
    "result = process_mets_files_in_directory(\n",
    "  input_dir=\"./bl-repo-files\",\n",
    "  output_dir=\"../demo-output\",\n",
    "  xslts=xslts)"
   ]
  },
  {
   "attachments": {},
   "cell_type": "markdown",
   "metadata": {},
   "source": [
    "You will note that we assign the result of the `process_mets_files_in_directory` function to a variable called `result`. Let's have a look at it (using `pprint` which provides a prettier look at the resulting dictionary):"
   ]
  },
  {
   "cell_type": "code",
   "execution_count": 7,
   "metadata": {},
   "outputs": [
    {
     "name": "stdout",
     "output_type": "stream",
     "text": [
      "{'Date has no text': 0,\n",
      " 'Date is not formatted correctly (YYYY-MM-DD)': 0,\n",
      " 'General XSLT Error': 0,\n",
      " 'Identifier has no text': 0,\n",
      " 'No dates found': 0,\n",
      " 'No identifiers found': 0,\n",
      " 'Too many dates found': 0,\n",
      " 'Too many identifiers found': 0,\n",
      " 'Unknown XML schema': 0,\n",
      " 'Unknown root': 0,\n",
      " 'Unsupported XML schema for operation': 0,\n",
      " 'XML Syntax Error': 0,\n",
      " 'XML file failed to give XSLT output': 0,\n",
      " 'XSLT Error, cannot resolve URI': 0,\n",
      " 'num_files': 1}\n"
     ]
    }
   ],
   "source": [
    "from pprint import pprint\n",
    "\n",
    "pprint(result)"
   ]
  },
  {
   "attachments": {},
   "cell_type": "markdown",
   "metadata": {},
   "source": [
    "In this resulting directory, `num_files` (at the very end) designates how many successful files were processed. All the other keys represent errors that have occurred during the transformations of the `input_dir` that you provided above."
   ]
  },
  {
   "attachments": {},
   "cell_type": "markdown",
   "metadata": {},
   "source": [
    "### Another example\n",
    "\n",
    "We have provided yet another example, which is located in the `0002647` folder right here in the `demo-files`. All the other parameters are the same as the example above so you will expect to find the result in the `demo-output` folder, once again.\n",
    "\n",
    "Let's run the function and look at the result:"
   ]
  },
  {
   "cell_type": "code",
   "execution_count": 8,
   "metadata": {},
   "outputs": [
    {
     "name": "stdout",
     "output_type": "stream",
     "text": [
      "{'Date has no text': 0,\n",
      " 'Date is not formatted correctly (YYYY-MM-DD)': 0,\n",
      " 'General XSLT Error': 0,\n",
      " 'Identifier has no text': 0,\n",
      " 'No dates found': 0,\n",
      " 'No identifiers found': 0,\n",
      " 'Too many dates found': 0,\n",
      " 'Too many identifiers found': 0,\n",
      " 'Unknown XML schema': 0,\n",
      " 'Unknown root': 0,\n",
      " 'Unsupported XML schema for operation': 0,\n",
      " 'XML Syntax Error': 0,\n",
      " 'XML file failed to give XSLT output': 0,\n",
      " 'XSLT Error, cannot resolve URI': 0,\n",
      " 'num_files': 1}\n"
     ]
    }
   ],
   "source": [
    "result = process_mets_files_in_directory(\n",
    "  input_dir=\"./0002647/\",\n",
    "  output_dir=\"../demo-output\",\n",
    "  xslts=xslts)\n",
    "\n",
    "pprint(result)"
   ]
  },
  {
   "attachments": {},
   "cell_type": "markdown",
   "metadata": {},
   "source": [
    "Once again, one METS file was successfully processed."
   ]
  },
  {
   "attachments": {},
   "cell_type": "markdown",
   "metadata": {},
   "source": [
    "## Files that follow a \"bad\" directory\n",
    "\n",
    "In previous versions of `alto2txt`, the `bad_directory` in our test files would crash the program (as it used to expect a particular folder structure). In the current version, the `bad_directory` test will no longer fail:"
   ]
  },
  {
   "cell_type": "code",
   "execution_count": 10,
   "metadata": {},
   "outputs": [
    {
     "name": "stdout",
     "output_type": "stream",
     "text": [
      "{'Date has no text': 0,\n",
      " 'Date is not formatted correctly (YYYY-MM-DD)': 0,\n",
      " 'General XSLT Error': 0,\n",
      " 'Identifier has no text': 0,\n",
      " 'No dates found': 0,\n",
      " 'No identifiers found': 0,\n",
      " 'Too many dates found': 0,\n",
      " 'Too many identifiers found': 0,\n",
      " 'Unknown XML schema': 0,\n",
      " 'Unknown root': 0,\n",
      " 'Unsupported XML schema for operation': 0,\n",
      " 'XML Syntax Error': 0,\n",
      " 'XML file failed to give XSLT output': 0,\n",
      " 'XSLT Error, cannot resolve URI': 0,\n",
      " 'num_files': 1}\n"
     ]
    }
   ],
   "source": [
    "result = process_mets_files_in_directory(\n",
    "  input_dir=\"../tests/tests/test_files/bad_directory/\",\n",
    "  output_dir=\"../demo-output/\",\n",
    "  xslts=xslts)\n",
    "\n",
    "pprint(result)"
   ]
  },
  {
   "attachments": {},
   "cell_type": "markdown",
   "metadata": {},
   "source": [
    "## No directory structure\n",
    "\n",
    "The tool should now also run on a directory tree that is flat, i.e. where we have no directory tree (but also, as we will see in a later example, when we have multiple METS files in the same directory):"
   ]
  },
  {
   "cell_type": "code",
   "execution_count": 11,
   "metadata": {},
   "outputs": [
    {
     "name": "stdout",
     "output_type": "stream",
     "text": [
      "{'Date has no text': 0,\n",
      " 'Date is not formatted correctly (YYYY-MM-DD)': 0,\n",
      " 'General XSLT Error': 0,\n",
      " 'Identifier has no text': 0,\n",
      " 'No dates found': 0,\n",
      " 'No identifiers found': 0,\n",
      " 'Too many dates found': 0,\n",
      " 'Too many identifiers found': 0,\n",
      " 'Unknown XML schema': 0,\n",
      " 'Unknown root': 0,\n",
      " 'Unsupported XML schema for operation': 0,\n",
      " 'XML Syntax Error': 0,\n",
      " 'XML file failed to give XSLT output': 0,\n",
      " 'XSLT Error, cannot resolve URI': 0,\n",
      " 'num_files': 1}\n"
     ]
    }
   ],
   "source": [
    "result = process_mets_files_in_directory(\n",
    "  input_dir=\"../tests/tests/test_files/no_dir_tree/\",\n",
    "  output_dir=\"../demo-output/\",\n",
    "  xslts=xslts)\n",
    "\n",
    "pprint(result)"
   ]
  },
  {
   "attachments": {},
   "cell_type": "markdown",
   "metadata": {},
   "source": [
    "What if we have multiple METS files in the same folder? It works like a charm:"
   ]
  },
  {
   "cell_type": "code",
   "execution_count": 12,
   "metadata": {},
   "outputs": [
    {
     "name": "stdout",
     "output_type": "stream",
     "text": [
      "{'Date has no text': 0,\n",
      " 'Date is not formatted correctly (YYYY-MM-DD)': 0,\n",
      " 'General XSLT Error': 0,\n",
      " 'Identifier has no text': 0,\n",
      " 'No dates found': 0,\n",
      " 'No identifiers found': 0,\n",
      " 'Too many dates found': 0,\n",
      " 'Too many identifiers found': 0,\n",
      " 'Unknown XML schema': 0,\n",
      " 'Unknown root': 0,\n",
      " 'Unsupported XML schema for operation': 0,\n",
      " 'XML Syntax Error': 0,\n",
      " 'XML file failed to give XSLT output': 0,\n",
      " 'XSLT Error, cannot resolve URI': 0,\n",
      " 'num_files': 2}\n"
     ]
    }
   ],
   "source": [
    "result = process_mets_files_in_directory(\n",
    "  input_dir=\"../tests/tests/test_files/multiple_mets_files_one_dir/\",\n",
    "  output_dir=\"../demo-output/\",\n",
    "  xslts=xslts)\n",
    "\n",
    "pprint(result)"
   ]
  },
  {
   "attachments": {},
   "cell_type": "markdown",
   "metadata": {},
   "source": [
    "### Missing page references in the METS file\n",
    "\n",
    "So, what happens if there are page references in the METS file that are missing? The `alto2txt` tool should fail to process that particular METS file, but continue processing the other METS file in the directory.\n",
    "\n",
    "Let's try with a METS file that has (at least) one missing page:"
   ]
  },
  {
   "cell_type": "code",
   "execution_count": 13,
   "metadata": {},
   "outputs": [
    {
     "name": "stderr",
     "output_type": "stream",
     "text": [
      "An XMLError occurred: XSLT Error, cannot resolve URI: /Users/kwesterling/Repositories/lwm/alto2txt/tests/tests/test_files/missing_page/1824/0217/0002647_18240217_0004.xml\n"
     ]
    },
    {
     "name": "stdout",
     "output_type": "stream",
     "text": [
      "XSLT Error, cannot resolve URI: /Users/kwesterling/Repositories/lwm/alto2txt/tests/tests/test_files/missing_page/1824/0217/0002647_18240217_0004.xml\n"
     ]
    },
    {
     "data": {
      "text/plain": [
       "{'Unknown XML schema': 0,\n",
       " 'Unsupported XML schema for operation': 0,\n",
       " 'XML Syntax Error': 0,\n",
       " 'Unknown root': 0,\n",
       " 'XML file failed to give XSLT output': 0,\n",
       " 'No dates found': 0,\n",
       " 'Too many dates found': 0,\n",
       " 'Date has no text': 0,\n",
       " 'Date is not formatted correctly (YYYY-MM-DD)': 0,\n",
       " 'No identifiers found': 0,\n",
       " 'Too many identifiers found': 0,\n",
       " 'Identifier has no text': 0,\n",
       " 'General XSLT Error': 0,\n",
       " 'XSLT Error, cannot resolve URI': 1,\n",
       " 'num_files': 0}"
      ]
     },
     "execution_count": 13,
     "metadata": {},
     "output_type": "execute_result"
    }
   ],
   "source": [
    "# This should fail\n",
    "result = process_mets_files_in_directory(\n",
    "  input_dir=\"../tests/tests/test_files/missing_page/\",\n",
    "  output_dir=\"../demo-output/\",\n",
    "  xslts=xslts)\n",
    "\n",
    "result"
   ]
  },
  {
   "attachments": {},
   "cell_type": "markdown",
   "metadata": {},
   "source": [
    "As you can see, the `alto2txt` tool logs the error. The `process_mets_files_in_directory` will also print any errors that occurs (so you'll get two notifications above).\n",
    "\n",
    "As you can see in the resulting dictionary (`result`), the error `\"XSLT Error, cannot resolve URI\"` has one count.\n",
    "\n",
    "So what happens if we have multiple METS files in one directory, where one METS file has missing pages, but another one has all its pages? Let's try:"
   ]
  },
  {
   "cell_type": "code",
   "execution_count": 15,
   "metadata": {},
   "outputs": [
    {
     "name": "stderr",
     "output_type": "stream",
     "text": [
      "An XMLError occurred: XSLT Error, cannot resolve URI: /Users/kwesterling/Repositories/lwm/alto2txt/tests/tests/test_files/multiple_mets_files_one_dir_one_missing_page/0002978_18900516_0008.xml\n"
     ]
    },
    {
     "name": "stdout",
     "output_type": "stream",
     "text": [
      "XSLT Error, cannot resolve URI: /Users/kwesterling/Repositories/lwm/alto2txt/tests/tests/test_files/multiple_mets_files_one_dir_one_missing_page/0002978_18900516_0008.xml\n",
      "{'Date has no text': 0,\n",
      " 'Date is not formatted correctly (YYYY-MM-DD)': 0,\n",
      " 'General XSLT Error': 0,\n",
      " 'Identifier has no text': 0,\n",
      " 'No dates found': 0,\n",
      " 'No identifiers found': 0,\n",
      " 'Too many dates found': 0,\n",
      " 'Too many identifiers found': 0,\n",
      " 'Unknown XML schema': 0,\n",
      " 'Unknown root': 0,\n",
      " 'Unsupported XML schema for operation': 0,\n",
      " 'XML Syntax Error': 0,\n",
      " 'XML file failed to give XSLT output': 0,\n",
      " 'XSLT Error, cannot resolve URI': 1,\n",
      " 'num_files': 1}\n"
     ]
    }
   ],
   "source": [
    "result = process_mets_files_in_directory(\n",
    "  input_dir=\"../tests/tests/test_files/multiple_mets_files_one_dir_one_missing_page/\",\n",
    "  output_dir=\"../demo-output/\",\n",
    "  xslts=xslts)\n",
    "\n",
    "pprint(result)"
   ]
  },
  {
   "attachments": {},
   "cell_type": "markdown",
   "metadata": {},
   "source": [
    "You will see that `num_files` denotes one functioning file that has been transformed by the XSLT. Meanwhile, another file has failed with an error `\"XSLT Error, cannot resolve URI\"`. That's what we expected!"
   ]
  }
 ],
 "metadata": {
  "kernelspec": {
   "display_name": "base",
   "language": "python",
   "name": "python3"
  },
  "language_info": {
   "codemirror_mode": {
    "name": "ipython",
    "version": 3
   },
   "file_extension": ".py",
   "mimetype": "text/x-python",
   "name": "python",
   "nbconvert_exporter": "python",
   "pygments_lexer": "ipython3",
   "version": "3.9.12"
  },
  "orig_nbformat": 4
 },
 "nbformat": 4,
 "nbformat_minor": 2
}
